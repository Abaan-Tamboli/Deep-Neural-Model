{
  "nbformat": 4,
  "nbformat_minor": 0,
  "metadata": {
    "colab": {
      "provenance": [],
      "gpuType": "T4",
      "authorship_tag": "ABX9TyP2WwamlGneztE2DzfRcJyV",
      "include_colab_link": true
    },
    "kernelspec": {
      "name": "python3",
      "display_name": "Python 3"
    },
    "language_info": {
      "name": "python"
    },
    "accelerator": "GPU"
  },
  "cells": [
    {
      "cell_type": "markdown",
      "metadata": {
        "id": "view-in-github",
        "colab_type": "text"
      },
      "source": [
        "<a href=\"https://colab.research.google.com/github/Abaan-Tamboli/Deep-Neural-Model/blob/main/NN.ipynb\" target=\"_parent\"><img src=\"https://colab.research.google.com/assets/colab-badge.svg\" alt=\"Open In Colab\"/></a>"
      ]
    },
    {
      "cell_type": "code",
      "execution_count": null,
      "metadata": {
        "id": "yyFChYCjZkSu"
      },
      "outputs": [],
      "source": [
        "import os\n",
        "from PIL import Image, ImageFilter\n",
        "import matplotlib.pyplot as plt\n",
        "import numpy as np"
      ]
    },
    {
      "cell_type": "code",
      "source": [
        "# Function to manually brighten an image\n",
        "def brighten_image(image, factor=1.5):\n",
        "    # Convert the image to a NumPy array for pixel-wise manipulation\n",
        "    img_array = np.array(image, dtype=np.float64)\n",
        "\n",
        "    # Increase brightness by multiplying pixel values by the factor\n",
        "    img_array = img_array * factor\n",
        "\n",
        "    # Ensure pixel values are in the valid range [0, 255]\n",
        "    img_array = np.clip(img_array, 0, 255)\n",
        "\n",
        "    # Convert back to uint8 and return as an Image\n",
        "    brightened_image = Image.fromarray(img_array.astype(np.uint8))\n",
        "    return brightened_image"
      ],
      "metadata": {
        "id": "0EMgRyiBaKlT"
      },
      "execution_count": null,
      "outputs": []
    },
    {
      "cell_type": "code",
      "source": [
        "# Function to apply multiple filters and manual brightening\n",
        "def apply_filters_and_brighten(image_path):\n",
        "    # Open the image\n",
        "    image = Image.open(image_path)\n",
        "\n",
        "    # Apply a sharpen filter\n",
        "    sharpened_image = image.filter(ImageFilter.SHARPEN)\n",
        "\n",
        "    # Apply an edge enhancement filter\n",
        "    edge_enhanced_image = sharpened_image.filter(ImageFilter.EDGE_ENHANCE)\n",
        "\n",
        "    # Apply a smoothing filter\n",
        "    smoothed_image = edge_enhanced_image.filter(ImageFilter.SMOOTH)\n",
        "\n",
        "    # Manually brighten the image\n",
        "    brightened_image = brighten_image(smoothed_image, factor=1.5)\n",
        "\n",
        "    return image, brightened_image\n",
        "\n"
      ],
      "metadata": {
        "id": "qsWnj0CHbLFa"
      },
      "execution_count": null,
      "outputs": []
    },
    {
      "cell_type": "code",
      "source": [
        "# Path to the folder containing images\n",
        "folder_path = r'C:\\Users\\Abaan\\OneDrive\\Desktop\\AIT\\dataset\\dataset\\Training\\meningioma_tumor'  # Replace with your folder path\n",
        "\n",
        "# Process all images in the folder\n",
        "for filename in os.listdir(folder_path):\n",
        "    if filename.endswith('.jpg') or filename.endswith('.png'):  # Add other formats if necessary\n",
        "        img_path = os.path.join(folder_path, filename)\n",
        "\n",
        "        # Apply filters and brighten the image\n",
        "        original_image, processed_image = apply_filters_and_brighten(img_path)\n",
        "\n",
        "        # Display original and processed images side by side\n",
        "        fig, ax = plt.subplots(1, 2, figsize=(10, 5))\n",
        "\n",
        "        # Original Image\n",
        "        ax[0].imshow(original_image)\n",
        "        ax[0].set_title('Original Image')\n",
        "        ax[0].axis('off')\n",
        "\n",
        "        # Processed Image (Filtered + Brightened)\n",
        "        ax[1].imshow(processed_image)\n",
        "        ax[1].set_title('Filtered and Brightened Image')\n",
        "        ax[1].axis('off')\n",
        "\n",
        "        # Show the comparison\n",
        "        plt.show()"
      ],
      "metadata": {
        "colab": {
          "base_uri": "https://localhost:8080/",
          "height": 265
        },
        "id": "ncPD6-7wbNLX",
        "outputId": "2a604400-0ef8-4b0a-9c82-137f62ae1103"
      },
      "execution_count": null,
      "outputs": [
        {
          "output_type": "error",
          "ename": "FileNotFoundError",
          "evalue": "[Errno 2] No such file or directory: 'C:\\\\Users\\\\Abaan\\\\OneDrive\\\\Desktop\\\\AIT\\\\dataset\\\\dataset\\\\Training\\\\meningioma_tumor'",
          "traceback": [
            "\u001b[0;31m---------------------------------------------------------------------------\u001b[0m",
            "\u001b[0;31mFileNotFoundError\u001b[0m                         Traceback (most recent call last)",
            "\u001b[0;32m<ipython-input-8-863dac66fa4e>\u001b[0m in \u001b[0;36m<cell line: 5>\u001b[0;34m()\u001b[0m\n\u001b[1;32m      3\u001b[0m \u001b[0;34m\u001b[0m\u001b[0m\n\u001b[1;32m      4\u001b[0m \u001b[0;31m# Process all images in the folder\u001b[0m\u001b[0;34m\u001b[0m\u001b[0;34m\u001b[0m\u001b[0m\n\u001b[0;32m----> 5\u001b[0;31m \u001b[0;32mfor\u001b[0m \u001b[0mfilename\u001b[0m \u001b[0;32min\u001b[0m \u001b[0mos\u001b[0m\u001b[0;34m.\u001b[0m\u001b[0mlistdir\u001b[0m\u001b[0;34m(\u001b[0m\u001b[0mfolder_path\u001b[0m\u001b[0;34m)\u001b[0m\u001b[0;34m:\u001b[0m\u001b[0;34m\u001b[0m\u001b[0;34m\u001b[0m\u001b[0m\n\u001b[0m\u001b[1;32m      6\u001b[0m     \u001b[0;32mif\u001b[0m \u001b[0mfilename\u001b[0m\u001b[0;34m.\u001b[0m\u001b[0mendswith\u001b[0m\u001b[0;34m(\u001b[0m\u001b[0;34m'.jpg'\u001b[0m\u001b[0;34m)\u001b[0m \u001b[0;32mor\u001b[0m \u001b[0mfilename\u001b[0m\u001b[0;34m.\u001b[0m\u001b[0mendswith\u001b[0m\u001b[0;34m(\u001b[0m\u001b[0;34m'.png'\u001b[0m\u001b[0;34m)\u001b[0m\u001b[0;34m:\u001b[0m  \u001b[0;31m# Add other formats if necessary\u001b[0m\u001b[0;34m\u001b[0m\u001b[0;34m\u001b[0m\u001b[0m\n\u001b[1;32m      7\u001b[0m         \u001b[0mimg_path\u001b[0m \u001b[0;34m=\u001b[0m \u001b[0mos\u001b[0m\u001b[0;34m.\u001b[0m\u001b[0mpath\u001b[0m\u001b[0;34m.\u001b[0m\u001b[0mjoin\u001b[0m\u001b[0;34m(\u001b[0m\u001b[0mfolder_path\u001b[0m\u001b[0;34m,\u001b[0m \u001b[0mfilename\u001b[0m\u001b[0;34m)\u001b[0m\u001b[0;34m\u001b[0m\u001b[0;34m\u001b[0m\u001b[0m\n",
            "\u001b[0;31mFileNotFoundError\u001b[0m: [Errno 2] No such file or directory: 'C:\\\\Users\\\\Abaan\\\\OneDrive\\\\Desktop\\\\AIT\\\\dataset\\\\dataset\\\\Training\\\\meningioma_tumor'"
          ]
        }
      ]
    }
  ]
}